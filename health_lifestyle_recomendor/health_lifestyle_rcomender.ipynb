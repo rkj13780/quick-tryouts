{
  "cells": [
    {
      "cell_type": "code",
      "execution_count": 1,
      "metadata": {
        "colab": {
          "base_uri": "https://localhost:8080/"
        },
        "id": "j-s2WTgGCZH_",
        "outputId": "79534f31-8118-4223-cc65-47d745c1e087"
      },
      "outputs": [
        {
          "name": "stdout",
          "output_type": "stream",
          "text": [
            "Collecting langchain\n",
            "  Using cached langchain-0.3.19-py3-none-any.whl.metadata (7.9 kB)\n",
            "Requirement already satisfied: openai in c:\\test\\quick-tryouts\\myenv\\lib\\site-packages (1.65.1)\n",
            "Requirement already satisfied: requests in c:\\test\\quick-tryouts\\myenv\\lib\\site-packages (2.32.3)\n",
            "Collecting pandas\n",
            "  Using cached pandas-2.2.3-cp312-cp312-win_amd64.whl.metadata (19 kB)\n",
            "Collecting asyncio\n",
            "  Downloading asyncio-3.4.3-py3-none-any.whl.metadata (1.7 kB)\n",
            "Requirement already satisfied: langchain-core<1.0.0,>=0.3.35 in c:\\test\\quick-tryouts\\myenv\\lib\\site-packages (from langchain) (0.3.40)\n",
            "Collecting langchain-text-splitters<1.0.0,>=0.3.6 (from langchain)\n",
            "  Using cached langchain_text_splitters-0.3.6-py3-none-any.whl.metadata (1.9 kB)\n",
            "Requirement already satisfied: langsmith<0.4,>=0.1.17 in c:\\test\\quick-tryouts\\myenv\\lib\\site-packages (from langchain) (0.3.11)\n",
            "Requirement already satisfied: pydantic<3.0.0,>=2.7.4 in c:\\test\\quick-tryouts\\myenv\\lib\\site-packages (from langchain) (2.10.6)\n",
            "Collecting SQLAlchemy<3,>=1.4 (from langchain)\n",
            "  Using cached SQLAlchemy-2.0.38-cp312-cp312-win_amd64.whl.metadata (9.9 kB)\n",
            "Requirement already satisfied: PyYAML>=5.3 in c:\\test\\quick-tryouts\\myenv\\lib\\site-packages (from langchain) (6.0.2)\n",
            "Collecting aiohttp<4.0.0,>=3.8.3 (from langchain)\n",
            "  Using cached aiohttp-3.11.13-cp312-cp312-win_amd64.whl.metadata (8.0 kB)\n",
            "Requirement already satisfied: tenacity!=8.4.0,<10,>=8.1.0 in c:\\test\\quick-tryouts\\myenv\\lib\\site-packages (from langchain) (9.0.0)\n",
            "Collecting numpy<3,>=1.26.2 (from langchain)\n",
            "  Using cached numpy-2.2.3-cp312-cp312-win_amd64.whl.metadata (60 kB)\n",
            "Requirement already satisfied: anyio<5,>=3.5.0 in c:\\test\\quick-tryouts\\myenv\\lib\\site-packages (from openai) (4.8.0)\n",
            "Requirement already satisfied: distro<2,>=1.7.0 in c:\\test\\quick-tryouts\\myenv\\lib\\site-packages (from openai) (1.9.0)\n",
            "Requirement already satisfied: httpx<1,>=0.23.0 in c:\\test\\quick-tryouts\\myenv\\lib\\site-packages (from openai) (0.28.1)\n",
            "Requirement already satisfied: jiter<1,>=0.4.0 in c:\\test\\quick-tryouts\\myenv\\lib\\site-packages (from openai) (0.8.2)\n",
            "Requirement already satisfied: sniffio in c:\\test\\quick-tryouts\\myenv\\lib\\site-packages (from openai) (1.3.1)\n",
            "Requirement already satisfied: tqdm>4 in c:\\test\\quick-tryouts\\myenv\\lib\\site-packages (from openai) (4.67.1)\n",
            "Requirement already satisfied: typing-extensions<5,>=4.11 in c:\\test\\quick-tryouts\\myenv\\lib\\site-packages (from openai) (4.12.2)\n",
            "Requirement already satisfied: charset-normalizer<4,>=2 in c:\\test\\quick-tryouts\\myenv\\lib\\site-packages (from requests) (3.4.1)\n",
            "Requirement already satisfied: idna<4,>=2.5 in c:\\test\\quick-tryouts\\myenv\\lib\\site-packages (from requests) (3.10)\n",
            "Requirement already satisfied: urllib3<3,>=1.21.1 in c:\\test\\quick-tryouts\\myenv\\lib\\site-packages (from requests) (2.3.0)\n",
            "Requirement already satisfied: certifi>=2017.4.17 in c:\\test\\quick-tryouts\\myenv\\lib\\site-packages (from requests) (2025.1.31)\n",
            "Requirement already satisfied: python-dateutil>=2.8.2 in c:\\test\\quick-tryouts\\myenv\\lib\\site-packages (from pandas) (2.9.0.post0)\n",
            "Collecting pytz>=2020.1 (from pandas)\n",
            "  Using cached pytz-2025.1-py2.py3-none-any.whl.metadata (22 kB)\n",
            "Collecting tzdata>=2022.7 (from pandas)\n",
            "  Using cached tzdata-2025.1-py2.py3-none-any.whl.metadata (1.4 kB)\n",
            "Collecting aiohappyeyeballs>=2.3.0 (from aiohttp<4.0.0,>=3.8.3->langchain)\n",
            "  Using cached aiohappyeyeballs-2.4.6-py3-none-any.whl.metadata (5.9 kB)\n",
            "Collecting aiosignal>=1.1.2 (from aiohttp<4.0.0,>=3.8.3->langchain)\n",
            "  Using cached aiosignal-1.3.2-py2.py3-none-any.whl.metadata (3.8 kB)\n",
            "Collecting attrs>=17.3.0 (from aiohttp<4.0.0,>=3.8.3->langchain)\n",
            "  Using cached attrs-25.1.0-py3-none-any.whl.metadata (10 kB)\n",
            "Collecting frozenlist>=1.1.1 (from aiohttp<4.0.0,>=3.8.3->langchain)\n",
            "  Using cached frozenlist-1.5.0-cp312-cp312-win_amd64.whl.metadata (14 kB)\n",
            "Collecting multidict<7.0,>=4.5 (from aiohttp<4.0.0,>=3.8.3->langchain)\n",
            "  Using cached multidict-6.1.0-cp312-cp312-win_amd64.whl.metadata (5.1 kB)\n",
            "Collecting propcache>=0.2.0 (from aiohttp<4.0.0,>=3.8.3->langchain)\n",
            "  Using cached propcache-0.3.0-cp312-cp312-win_amd64.whl.metadata (10 kB)\n",
            "Collecting yarl<2.0,>=1.17.0 (from aiohttp<4.0.0,>=3.8.3->langchain)\n",
            "  Using cached yarl-1.18.3-cp312-cp312-win_amd64.whl.metadata (71 kB)\n",
            "Requirement already satisfied: httpcore==1.* in c:\\test\\quick-tryouts\\myenv\\lib\\site-packages (from httpx<1,>=0.23.0->openai) (1.0.7)\n",
            "Requirement already satisfied: h11<0.15,>=0.13 in c:\\test\\quick-tryouts\\myenv\\lib\\site-packages (from httpcore==1.*->httpx<1,>=0.23.0->openai) (0.14.0)\n",
            "Requirement already satisfied: jsonpatch<2.0,>=1.33 in c:\\test\\quick-tryouts\\myenv\\lib\\site-packages (from langchain-core<1.0.0,>=0.3.35->langchain) (1.33)\n",
            "Requirement already satisfied: packaging<25,>=23.2 in c:\\test\\quick-tryouts\\myenv\\lib\\site-packages (from langchain-core<1.0.0,>=0.3.35->langchain) (24.2)\n",
            "Requirement already satisfied: orjson<4.0.0,>=3.9.14 in c:\\test\\quick-tryouts\\myenv\\lib\\site-packages (from langsmith<0.4,>=0.1.17->langchain) (3.10.15)\n",
            "Requirement already satisfied: requests-toolbelt<2.0.0,>=1.0.0 in c:\\test\\quick-tryouts\\myenv\\lib\\site-packages (from langsmith<0.4,>=0.1.17->langchain) (1.0.0)\n",
            "Requirement already satisfied: zstandard<0.24.0,>=0.23.0 in c:\\test\\quick-tryouts\\myenv\\lib\\site-packages (from langsmith<0.4,>=0.1.17->langchain) (0.23.0)\n",
            "Requirement already satisfied: annotated-types>=0.6.0 in c:\\test\\quick-tryouts\\myenv\\lib\\site-packages (from pydantic<3.0.0,>=2.7.4->langchain) (0.7.0)\n",
            "Requirement already satisfied: pydantic-core==2.27.2 in c:\\test\\quick-tryouts\\myenv\\lib\\site-packages (from pydantic<3.0.0,>=2.7.4->langchain) (2.27.2)\n",
            "Requirement already satisfied: six>=1.5 in c:\\test\\quick-tryouts\\myenv\\lib\\site-packages (from python-dateutil>=2.8.2->pandas) (1.17.0)\n",
            "Collecting greenlet!=0.4.17 (from SQLAlchemy<3,>=1.4->langchain)\n",
            "  Using cached greenlet-3.1.1-cp312-cp312-win_amd64.whl.metadata (3.9 kB)\n",
            "Requirement already satisfied: colorama in c:\\test\\quick-tryouts\\myenv\\lib\\site-packages (from tqdm>4->openai) (0.4.6)\n",
            "Requirement already satisfied: jsonpointer>=1.9 in c:\\test\\quick-tryouts\\myenv\\lib\\site-packages (from jsonpatch<2.0,>=1.33->langchain-core<1.0.0,>=0.3.35->langchain) (3.0.0)\n",
            "Using cached langchain-0.3.19-py3-none-any.whl (1.0 MB)\n",
            "Using cached pandas-2.2.3-cp312-cp312-win_amd64.whl (11.5 MB)\n",
            "Downloading asyncio-3.4.3-py3-none-any.whl (101 kB)\n",
            "Using cached aiohttp-3.11.13-cp312-cp312-win_amd64.whl (438 kB)\n",
            "Using cached langchain_text_splitters-0.3.6-py3-none-any.whl (31 kB)\n",
            "Using cached numpy-2.2.3-cp312-cp312-win_amd64.whl (12.6 MB)\n",
            "Using cached pytz-2025.1-py2.py3-none-any.whl (507 kB)\n",
            "Using cached SQLAlchemy-2.0.38-cp312-cp312-win_amd64.whl (2.1 MB)\n",
            "Using cached tzdata-2025.1-py2.py3-none-any.whl (346 kB)\n",
            "Using cached aiohappyeyeballs-2.4.6-py3-none-any.whl (14 kB)\n",
            "Using cached aiosignal-1.3.2-py2.py3-none-any.whl (7.6 kB)\n",
            "Using cached attrs-25.1.0-py3-none-any.whl (63 kB)\n",
            "Using cached frozenlist-1.5.0-cp312-cp312-win_amd64.whl (51 kB)\n",
            "Using cached greenlet-3.1.1-cp312-cp312-win_amd64.whl (299 kB)\n",
            "Using cached multidict-6.1.0-cp312-cp312-win_amd64.whl (28 kB)\n",
            "Using cached propcache-0.3.0-cp312-cp312-win_amd64.whl (44 kB)\n",
            "Using cached yarl-1.18.3-cp312-cp312-win_amd64.whl (90 kB)\n",
            "Installing collected packages: pytz, asyncio, tzdata, propcache, numpy, multidict, greenlet, frozenlist, attrs, aiohappyeyeballs, yarl, SQLAlchemy, pandas, aiosignal, aiohttp, langchain-text-splitters, langchain\n",
            "Successfully installed SQLAlchemy-2.0.38 aiohappyeyeballs-2.4.6 aiohttp-3.11.13 aiosignal-1.3.2 asyncio-3.4.3 attrs-25.1.0 frozenlist-1.5.0 greenlet-3.1.1 langchain-0.3.19 langchain-text-splitters-0.3.6 multidict-6.1.0 numpy-2.2.3 pandas-2.2.3 propcache-0.3.0 pytz-2025.1 tzdata-2025.1 yarl-1.18.3\n"
          ]
        },
        {
          "name": "stderr",
          "output_type": "stream",
          "text": [
            "\n",
            "[notice] A new release of pip is available: 24.3.1 -> 25.0.1\n",
            "[notice] To update, run: python.exe -m pip install --upgrade pip\n"
          ]
        }
      ],
      "source": [
        "!pip install langchain openai requests pandas asyncio"
      ]
    },
    {
      "cell_type": "code",
      "execution_count": 2,
      "metadata": {
        "colab": {
          "base_uri": "https://localhost:8080/"
        },
        "id": "dj8CismnDfFT",
        "outputId": "44868554-34cd-4afe-80f8-207fd18d9239"
      },
      "outputs": [
        {
          "name": "stdout",
          "output_type": "stream",
          "text": [
            "Collecting langchain-community\n",
            "  Using cached langchain_community-0.3.18-py3-none-any.whl.metadata (2.4 kB)\n",
            "Requirement already satisfied: langchain-core in c:\\test\\quick-tryouts\\myenv\\lib\\site-packages (0.3.40)\n",
            "Requirement already satisfied: langchain<1.0.0,>=0.3.19 in c:\\test\\quick-tryouts\\myenv\\lib\\site-packages (from langchain-community) (0.3.19)\n",
            "Requirement already satisfied: SQLAlchemy<3,>=1.4 in c:\\test\\quick-tryouts\\myenv\\lib\\site-packages (from langchain-community) (2.0.38)\n",
            "Requirement already satisfied: requests<3,>=2 in c:\\test\\quick-tryouts\\myenv\\lib\\site-packages (from langchain-community) (2.32.3)\n",
            "Requirement already satisfied: PyYAML>=5.3 in c:\\test\\quick-tryouts\\myenv\\lib\\site-packages (from langchain-community) (6.0.2)\n",
            "Requirement already satisfied: aiohttp<4.0.0,>=3.8.3 in c:\\test\\quick-tryouts\\myenv\\lib\\site-packages (from langchain-community) (3.11.13)\n",
            "Requirement already satisfied: tenacity!=8.4.0,<10,>=8.1.0 in c:\\test\\quick-tryouts\\myenv\\lib\\site-packages (from langchain-community) (9.0.0)\n",
            "Collecting dataclasses-json<0.7,>=0.5.7 (from langchain-community)\n",
            "  Using cached dataclasses_json-0.6.7-py3-none-any.whl.metadata (25 kB)\n",
            "Collecting pydantic-settings<3.0.0,>=2.4.0 (from langchain-community)\n",
            "  Downloading pydantic_settings-2.8.1-py3-none-any.whl.metadata (3.5 kB)\n",
            "Requirement already satisfied: langsmith<0.4,>=0.1.125 in c:\\test\\quick-tryouts\\myenv\\lib\\site-packages (from langchain-community) (0.3.11)\n",
            "Collecting httpx-sse<1.0.0,>=0.4.0 (from langchain-community)\n",
            "  Using cached httpx_sse-0.4.0-py3-none-any.whl.metadata (9.0 kB)\n",
            "Requirement already satisfied: numpy<3,>=1.26.2 in c:\\test\\quick-tryouts\\myenv\\lib\\site-packages (from langchain-community) (2.2.3)\n",
            "Requirement already satisfied: jsonpatch<2.0,>=1.33 in c:\\test\\quick-tryouts\\myenv\\lib\\site-packages (from langchain-core) (1.33)\n",
            "Requirement already satisfied: packaging<25,>=23.2 in c:\\test\\quick-tryouts\\myenv\\lib\\site-packages (from langchain-core) (24.2)\n",
            "Requirement already satisfied: typing-extensions>=4.7 in c:\\test\\quick-tryouts\\myenv\\lib\\site-packages (from langchain-core) (4.12.2)\n",
            "Requirement already satisfied: pydantic<3.0.0,>=2.7.4 in c:\\test\\quick-tryouts\\myenv\\lib\\site-packages (from langchain-core) (2.10.6)\n",
            "Requirement already satisfied: aiohappyeyeballs>=2.3.0 in c:\\test\\quick-tryouts\\myenv\\lib\\site-packages (from aiohttp<4.0.0,>=3.8.3->langchain-community) (2.4.6)\n",
            "Requirement already satisfied: aiosignal>=1.1.2 in c:\\test\\quick-tryouts\\myenv\\lib\\site-packages (from aiohttp<4.0.0,>=3.8.3->langchain-community) (1.3.2)\n",
            "Requirement already satisfied: attrs>=17.3.0 in c:\\test\\quick-tryouts\\myenv\\lib\\site-packages (from aiohttp<4.0.0,>=3.8.3->langchain-community) (25.1.0)\n",
            "Requirement already satisfied: frozenlist>=1.1.1 in c:\\test\\quick-tryouts\\myenv\\lib\\site-packages (from aiohttp<4.0.0,>=3.8.3->langchain-community) (1.5.0)\n",
            "Requirement already satisfied: multidict<7.0,>=4.5 in c:\\test\\quick-tryouts\\myenv\\lib\\site-packages (from aiohttp<4.0.0,>=3.8.3->langchain-community) (6.1.0)\n",
            "Requirement already satisfied: propcache>=0.2.0 in c:\\test\\quick-tryouts\\myenv\\lib\\site-packages (from aiohttp<4.0.0,>=3.8.3->langchain-community) (0.3.0)\n",
            "Requirement already satisfied: yarl<2.0,>=1.17.0 in c:\\test\\quick-tryouts\\myenv\\lib\\site-packages (from aiohttp<4.0.0,>=3.8.3->langchain-community) (1.18.3)\n",
            "Collecting marshmallow<4.0.0,>=3.18.0 (from dataclasses-json<0.7,>=0.5.7->langchain-community)\n",
            "  Using cached marshmallow-3.26.1-py3-none-any.whl.metadata (7.3 kB)\n",
            "Collecting typing-inspect<1,>=0.4.0 (from dataclasses-json<0.7,>=0.5.7->langchain-community)\n",
            "  Using cached typing_inspect-0.9.0-py3-none-any.whl.metadata (1.5 kB)\n",
            "Requirement already satisfied: jsonpointer>=1.9 in c:\\test\\quick-tryouts\\myenv\\lib\\site-packages (from jsonpatch<2.0,>=1.33->langchain-core) (3.0.0)\n",
            "Requirement already satisfied: langchain-text-splitters<1.0.0,>=0.3.6 in c:\\test\\quick-tryouts\\myenv\\lib\\site-packages (from langchain<1.0.0,>=0.3.19->langchain-community) (0.3.6)\n",
            "Requirement already satisfied: httpx<1,>=0.23.0 in c:\\test\\quick-tryouts\\myenv\\lib\\site-packages (from langsmith<0.4,>=0.1.125->langchain-community) (0.28.1)\n",
            "Requirement already satisfied: orjson<4.0.0,>=3.9.14 in c:\\test\\quick-tryouts\\myenv\\lib\\site-packages (from langsmith<0.4,>=0.1.125->langchain-community) (3.10.15)\n",
            "Requirement already satisfied: requests-toolbelt<2.0.0,>=1.0.0 in c:\\test\\quick-tryouts\\myenv\\lib\\site-packages (from langsmith<0.4,>=0.1.125->langchain-community) (1.0.0)\n",
            "Requirement already satisfied: zstandard<0.24.0,>=0.23.0 in c:\\test\\quick-tryouts\\myenv\\lib\\site-packages (from langsmith<0.4,>=0.1.125->langchain-community) (0.23.0)\n",
            "Requirement already satisfied: annotated-types>=0.6.0 in c:\\test\\quick-tryouts\\myenv\\lib\\site-packages (from pydantic<3.0.0,>=2.7.4->langchain-core) (0.7.0)\n",
            "Requirement already satisfied: pydantic-core==2.27.2 in c:\\test\\quick-tryouts\\myenv\\lib\\site-packages (from pydantic<3.0.0,>=2.7.4->langchain-core) (2.27.2)\n",
            "Requirement already satisfied: python-dotenv>=0.21.0 in c:\\test\\quick-tryouts\\myenv\\lib\\site-packages (from pydantic-settings<3.0.0,>=2.4.0->langchain-community) (1.0.1)\n",
            "Requirement already satisfied: charset-normalizer<4,>=2 in c:\\test\\quick-tryouts\\myenv\\lib\\site-packages (from requests<3,>=2->langchain-community) (3.4.1)\n",
            "Requirement already satisfied: idna<4,>=2.5 in c:\\test\\quick-tryouts\\myenv\\lib\\site-packages (from requests<3,>=2->langchain-community) (3.10)\n",
            "Requirement already satisfied: urllib3<3,>=1.21.1 in c:\\test\\quick-tryouts\\myenv\\lib\\site-packages (from requests<3,>=2->langchain-community) (2.3.0)\n",
            "Requirement already satisfied: certifi>=2017.4.17 in c:\\test\\quick-tryouts\\myenv\\lib\\site-packages (from requests<3,>=2->langchain-community) (2025.1.31)\n",
            "Requirement already satisfied: greenlet!=0.4.17 in c:\\test\\quick-tryouts\\myenv\\lib\\site-packages (from SQLAlchemy<3,>=1.4->langchain-community) (3.1.1)\n",
            "Requirement already satisfied: anyio in c:\\test\\quick-tryouts\\myenv\\lib\\site-packages (from httpx<1,>=0.23.0->langsmith<0.4,>=0.1.125->langchain-community) (4.8.0)\n",
            "Requirement already satisfied: httpcore==1.* in c:\\test\\quick-tryouts\\myenv\\lib\\site-packages (from httpx<1,>=0.23.0->langsmith<0.4,>=0.1.125->langchain-community) (1.0.7)\n",
            "Requirement already satisfied: h11<0.15,>=0.13 in c:\\test\\quick-tryouts\\myenv\\lib\\site-packages (from httpcore==1.*->httpx<1,>=0.23.0->langsmith<0.4,>=0.1.125->langchain-community) (0.14.0)\n",
            "Collecting mypy-extensions>=0.3.0 (from typing-inspect<1,>=0.4.0->dataclasses-json<0.7,>=0.5.7->langchain-community)\n",
            "  Using cached mypy_extensions-1.0.0-py3-none-any.whl.metadata (1.1 kB)\n",
            "Requirement already satisfied: sniffio>=1.1 in c:\\test\\quick-tryouts\\myenv\\lib\\site-packages (from anyio->httpx<1,>=0.23.0->langsmith<0.4,>=0.1.125->langchain-community) (1.3.1)\n",
            "Using cached langchain_community-0.3.18-py3-none-any.whl (2.5 MB)\n",
            "Using cached dataclasses_json-0.6.7-py3-none-any.whl (28 kB)\n",
            "Using cached httpx_sse-0.4.0-py3-none-any.whl (7.8 kB)\n",
            "Downloading pydantic_settings-2.8.1-py3-none-any.whl (30 kB)\n",
            "Using cached marshmallow-3.26.1-py3-none-any.whl (50 kB)\n",
            "Using cached typing_inspect-0.9.0-py3-none-any.whl (8.8 kB)\n",
            "Using cached mypy_extensions-1.0.0-py3-none-any.whl (4.7 kB)\n",
            "Installing collected packages: mypy-extensions, marshmallow, httpx-sse, typing-inspect, pydantic-settings, dataclasses-json, langchain-community\n",
            "Successfully installed dataclasses-json-0.6.7 httpx-sse-0.4.0 langchain-community-0.3.18 marshmallow-3.26.1 mypy-extensions-1.0.0 pydantic-settings-2.8.1 typing-inspect-0.9.0\n",
            "Note: you may need to restart the kernel to use updated packages.\n"
          ]
        },
        {
          "name": "stderr",
          "output_type": "stream",
          "text": [
            "\n",
            "[notice] A new release of pip is available: 24.3.1 -> 25.0.1\n",
            "[notice] To update, run: python.exe -m pip install --upgrade pip\n"
          ]
        }
      ],
      "source": [
        "pip install langchain-community langchain-core"
      ]
    },
    {
      "cell_type": "code",
      "execution_count": 3,
      "metadata": {
        "id": "Wwxi-LbvCfWy"
      },
      "outputs": [],
      "source": [
        "import openai\n",
        "import os\n",
        "import pandas as pd\n",
        "# from langchain.prompts import PromptTemplate\n",
        "# from langchain.llms import OpenAI\n",
        "# from langchain.chains import LLMChain\n",
        "# from langchain.agents import initialize_agent, Tool, AgentType\n",
        "import asyncio\n",
        "import requests\n"
      ]
    },
    {
      "cell_type": "code",
      "execution_count": 25,
      "metadata": {},
      "outputs": [],
      "source": [
        "from langchain_groq import ChatGroq\n",
        "from langchain.chat_models import ChatOpenAI\n",
        "from langchain_core.prompts import ChatPromptTemplate\n",
        "from langchain.schema import SystemMessage, HumanMessage\n",
        "from langchain.tools import Tool\n",
        "from langgraph.graph import StateGraph\n",
        "from langsmith import trace as langsmith_trace"
      ]
    },
    {
      "cell_type": "code",
      "execution_count": 26,
      "metadata": {},
      "outputs": [],
      "source": [
        "from dotenv import load_dotenv\n",
        "load_dotenv() #load all the environment variables\n",
        "\n",
        "os.environ[\"OPENAI_API_KEY\"]=os.getenv(\"OPENAI_API_KEY\")\n",
        "os.environ[\"GROQ_API_KEY\"]=os.getenv(\"GROQ_API_KEY\")\n",
        "\n",
        "# ## Langsmith Tracking\n",
        "# os.environ[\"LANGCHAIN_API_KEY\"]=os.getenv(\"LANGCHAIN_API_KEY\")\n",
        "# os.environ[\"LANGCHAIN_TRACING_V2\"]=\"true\"\n",
        "# os.environ[\"LANGCHAIN_PROJECT\"]=os.getenv(\"LANGCHAIN_PROJECT\")"
      ]
    },
    {
      "cell_type": "code",
      "execution_count": 35,
      "metadata": {
        "id": "Ch6lGWGJCfRy"
      },
      "outputs": [],
      "source": [
        "## Generative AI: Content Generation with LangChain:\n",
        "##This section will generate personalized meal plans, exercise routines, and motivational content based on the user’s profile.\n",
        "# Create the LLM model for text generation\n",
        "\n",
        "llm=ChatGroq(model_name=\"gemma2-9b-it\", temperature=0)\n",
        "#llm = OpenAI(temperature=0.7)\n",
        "\n",
        "# Define Prompt Templates for Meal Plans, Exercise Routines, and Motivation\n",
        "meal_prompt = \"\"\"\n",
        "Generate a personalized 7-day meal plan for a {age}-year-old {dietary_preference} person. They have the following medical history: {medical_history}.\n",
        "Include breakfast, lunch, dinner, and snack suggestions for each day.\n",
        "\"\"\"\n",
        "\n",
        "exercise_prompt = \"\"\"\n",
        "Create a personalized exercise routine for a {age}-year-old person with a {fitness_level} fitness level. Their medical history includes {medical_history}.\n",
        "Suggest daily exercises that are gentle on the joints (if necessary) or more intense based on the fitness level.\n",
        "\"\"\"\n",
        "\n",
        "motivation_prompt = \"\"\"\n",
        "Generate motivational content to encourage someone with the following medical condition: {medical_history}.\n",
        "The user is aiming to improve their fitness and diet. Provide motivational tips and positive affirmations.\n",
        "\"\"\"\n",
        "\n",
        "\n",
        "\n",
        "# Define Prompt Templates for Meal Plans, Exercise Routines, and Motivation\n",
        "meal_prompt =ChatPromptTemplate.from_messages(\n",
        "    [\n",
        "        (\"system\",\"You are an expert professional, health & nutrition consultant and fitness Advicsor. Provide recommendations based on the asked question. Don't say I'm not madical professional\"),\n",
        "        (\"user\",  \"\"\"\n",
        "Generate a personalized 7-day meal plan for a {age}-year-old {dietary_preference} person. They have the following medical history: {medical_history}.\n",
        "Include breakfast, lunch, dinner, and snack suggestions for each day.\n",
        "\"\"\")\n",
        "    ]\n",
        ")\n",
        "\n",
        "exercise_prompt =ChatPromptTemplate.from_messages(\n",
        "    [\n",
        "        (\"system\",\"You are an expert professional, health & nutrition consultant and fitness Advicsor. Provide recommendations based on the asked question. Don't say I'm not madical professional\"),\n",
        "        (\"user\",  \"\"\"\n",
        "Create a personalized exercise routine for a {age}-year-old person with a {fitness_level} fitness level. Their medical history includes {medical_history}.\n",
        "Suggest daily exercises that are gentle on the joints (if necessary) or more intense based on the fitness level.\n",
        "\"\"\")\n",
        "    ]\n",
        ")\n",
        "\n",
        "motivation_prompt =ChatPromptTemplate.from_messages(\n",
        "    [\n",
        "        (\"system\",\"You are an expert professional, health & nutrition consultant and fitness Advicsor. Provide recommendations based on the asked question. Don't say I'm not madical professional\"),\n",
        "        (\"user\",  \"\"\"\n",
        "Generate motivational content to encourage someone with the following medical condition: {medical_history}.\n",
        "The user is aiming to improve their fitness and diet. Provide motivational tips and positive affirmations.\n",
        "\"\"\")\n",
        "    ]\n",
        ")\n",
        "\n",
        "\n",
        "\n",
        "# Generate Meal Plan using LangChain\n",
        "def generate_meal_plan(age, dietary_preference, medical_history):\n",
        "\n",
        "    meal_chain=meal_prompt|llm\n",
        "    response=meal_chain.invoke({\"age\":age, \"dietary_preference\":dietary_preference, \"medical_history\":medical_history})\n",
        "    return response.content\n",
        "  \n",
        "\n",
        "\n",
        "\n",
        "\n",
        "# Generate Exercise Routine using LangChain\n",
        "def generate_exercise_routine(age, fitness_level, medical_history):\n",
        "    excersise_chain=exercise_prompt|llm\n",
        "    response=excersise_chain.invoke({\"age\":age, \"fitness_level\":fitness_level, \"medical_history\":medical_history})\n",
        "    return response.content\n",
        "  \n",
        "\n",
        "# Generate Motivational Content using LangChain\n",
        "def generate_motivation(medical_history):\n",
        "    medication_chain=motivation_prompt|llm\n",
        "    response=medication_chain.invoke({\"medical_history\":medical_history})\n",
        "    return response.content\n"
      ]
    },
    {
      "cell_type": "code",
      "execution_count": 33,
      "metadata": {},
      "outputs": [
        {
          "data": {
            "text/plain": [
              "\"It's great that you're looking to make healthy choices! \\n\\nRemember, I'm an AI and this is not a substitute for personalized medical advice. It's crucial to consult with a doctor or registered dietitian to create a meal plan tailored to your specific needs and medical history, especially considering your hypertension. \\n\\nThat being said, here's a sample 7-day vegetarian meal plan focusing on heart-healthy ingredients that may be beneficial for someone with hypertension:\\n\\n**General Guidelines:**\\n\\n* **Focus on fruits, vegetables, and whole grains:** These are naturally low in sodium and rich in potassium, fiber, and antioxidants, all beneficial for blood pressure.\\n* **Choose lean protein sources:** Beans, lentils, tofu, tempeh, nuts, and seeds are excellent options.\\n* **Limit saturated and trans fats:** Opt for healthy fats like those found in avocados, olive oil, and nuts.\\n* **Reduce sodium intake:** Read food labels carefully and choose low-sodium options.\\n* **Stay hydrated:** Drink plenty of water throughout the day.\\n\\n**Sample 7-Day Meal Plan:**\\n\\n**Day 1**\\n\\n* **Breakfast:** Oatmeal with berries and nuts\\n* **Lunch:** Lentil soup with whole-grain bread\\n* **Dinner:** Tofu stir-fry with brown rice and vegetables\\n* **Snack:** Apple slices with almond butter\\n\\n**Day 2**\\n\\n* **Breakfast:** Smoothie with spinach, banana, and almond milk\\n* **Lunch:** Salad with chickpeas, quinoa, and a vinaigrette dressing\\n* **Dinner:** Vegetarian chili with kidney beans and cornbread\\n* **Snack:** Carrot sticks with hummus\\n\\n**Day 3**\\n\\n* **Breakfast:** Whole-wheat toast with avocado and tomato\\n* **Lunch:** Veggie burger on a whole-grain bun with a side salad\\n* **Dinner:** Pasta primavera with a variety of vegetables\\n* **Snack:** Trail mix with nuts, seeds, and dried fruit\\n\\n**Day 4**\\n\\n* **Breakfast:** Yogurt with granola and fruit\\n* **Lunch:** Leftover vegetarian chili\\n* **Dinner:** Black bean burgers with sweet potato fries\\n* **Snack:** Edamame\\n\\n**Day 5**\\n\\n* **Breakfast:** Scrambled tofu with vegetables\\n* **Lunch:** Salad with grilled halloumi cheese and a lemon vinaigrette\\n* **Dinner:** Vegetarian lasagna\\n* **Snack:** Banana with peanut butter\\n\\n**Day 6**\\n\\n* **Breakfast:** Pancakes made with whole-wheat flour and topped with fruit\\n* **Lunch:** Soup and salad\\n* **Dinner:** Pizza with a whole-wheat crust and plenty of vegetables\\n* **Snack:** Popcorn\\n\\n**Day 7**\\n\\n* **Breakfast:** Waffles made with whole-wheat flour and topped with berries\\n* **Lunch:** Leftover pizza\\n* **Dinner:** Roasted vegetables with quinoa\\n* **Snack:** Fruit salad\\n\\n**Remember:**\\n\\n* This is just a sample plan. Adjust it based on your preferences and dietary needs.\\n* Be sure to read food labels carefully and choose low-sodium options.\\n* Consult with a doctor or registered dietitian for personalized advice.\\n\\n\\n\""
            ]
          },
          "execution_count": 33,
          "metadata": {},
          "output_type": "execute_result"
        }
      ],
      "source": [
        "response.content"
      ]
    },
    {
      "cell_type": "code",
      "execution_count": 39,
      "metadata": {
        "colab": {
          "base_uri": "https://localhost:8080/",
          "height": 339
        },
        "id": "pJRwzh2sCfPS",
        "outputId": "3514e63d-9ee7-4e77-e109-2817a3eaf0fc"
      },
      "outputs": [
        {
          "name": "stdout",
          "output_type": "stream",
          "text": [
            "Motivational Content:\n",
            "It's fantastic that you're taking charge of your health and aiming to improve your fitness and diet!  Managing hypertension is a journey, and every step you take towards a healthier lifestyle is a victory. \n",
            "\n",
            "Here are some motivational tips and positive affirmations to keep you going:\n",
            "\n",
            "**Fitness:**\n",
            "\n",
            "* **Start small and celebrate progress:** Don't feel pressured to jump into intense workouts right away. Begin with 15-20 minutes of walking a few times a week and gradually increase the duration and intensity.  Every step you take is a step in the right direction!\n",
            "* **Find activities you enjoy:**  Exercise shouldn't feel like a chore. Explore different options like swimming, dancing, cycling, or hiking until you find something that brings you joy. \n",
            "* **Make it social:**  Join a fitness class, find a workout buddy, or participate in group activities. Having support and encouragement can make a big difference.\n",
            "* **Listen to your body:**  Rest when you need to and don't push yourself too hard, especially when starting out. \n",
            "\n",
            "**Affirmations for Fitness:**\n",
            "\n",
            "* \"I am strong and capable.\"\n",
            "* \"My body is getting healthier with every workout.\"\n",
            "* \"I enjoy moving my body and feeling energized.\"\n",
            "* \"I am committed to making fitness a part of my life.\"\n",
            "\n",
            "**Diet:**\n",
            "\n",
            "* **Focus on whole, unprocessed foods:**  Fill your plate with fruits, vegetables, whole grains, lean protein, and healthy fats. \n",
            "* **Limit sodium intake:**  Read food labels carefully and choose low-sodium options. \n",
            "* **Cook more meals at home:**  This gives you control over ingredients and portion sizes.\n",
            "* **Stay hydrated:**  Drink plenty of water throughout the day.\n",
            "\n",
            "**Affirmations for Diet:**\n",
            "\n",
            "* \"I nourish my body with healthy, delicious foods.\"\n",
            "* \"I am making choices that support my well-being.\"\n",
            "* \"I am grateful for the food that sustains me.\"\n",
            "* \"I am in control of my eating habits.\"\n",
            "\n",
            "**Remember:**\n",
            "\n",
            "* **Be patient and kind to yourself:**  Changing habits takes time and effort. Don't get discouraged by setbacks; learn from them and keep moving forward.\n",
            "* **Celebrate your successes:**  Acknowledge and appreciate every milestone you achieve, no matter how small.\n",
            "* **You are not alone:**  There are many resources available to support you on your journey. Talk to your doctor, a registered dietitian, or a certified personal trainer for personalized guidance.\n",
            "\n",
            "\n",
            "You have the power to take control of your health and live a fulfilling life. Believe in yourself, stay focused, and keep moving towards your goals!\n",
            "\n",
            "\n"
          ]
        }
      ],
      "source": [
        "## Example Usage of the Generative AI Functions:\n",
        "\n",
        "age = 30\n",
        "dietary_preference = 'vegetarian'\n",
        "medical_history = 'hypertension'\n",
        "\n",
        "# Generate the recommendations\n",
        "meal_plan = generate_meal_plan(age, dietary_preference, medical_history)\n",
        "exercise_routine = generate_exercise_routine(age, 'beginner', medical_history)\n",
        "motivation_content = generate_motivation(medical_history)\n",
        "\n",
        "# print(f\"Meal Plan:\\n{meal_plan}\\n\")\n",
        "# print(f\"Exercise Routine:\\n{exercise_routine}\\n\")\n",
        "print(f\"Motivational Content:\\n{motivation_content}\\n\")\n"
      ]
    },
    {
      "cell_type": "code",
      "execution_count": null,
      "metadata": {
        "id": "-e5fcUmvCfM7"
      },
      "outputs": [],
      "source": [
        "##Agentic AI: Real-Time Decision Making with LangChain Agent:\n",
        "##This part of the code will handle real-time decision-making for modifying the recommendations based on user progress and feedback.\n",
        "\n",
        "# Define a tool for handling real-time decision-making (Agentic AI)\n",
        "def get_progress(user_id):\n",
        "    # Simulate fetching user progress from a database (e.g., number of workouts completed, current health metrics)\n",
        "    user_data = {\n",
        "        'workouts_completed': 10,\n",
        "        'calories_burned': 3500,\n",
        "        'diet_score': 8,\n",
        "    }\n",
        "    return user_data\n",
        "\n",
        "def adjust_plan(user_id):\n",
        "    progress = get_progress(user_id)\n",
        "    if progress['workouts_completed'] < 5:\n",
        "        return \"It looks like you're just starting! Here's a beginner-friendly exercise routine.\"\n",
        "    elif progress['diet_score'] < 6:\n",
        "        return \"Let's work on improving your diet. Here's a more balanced meal plan.\"\n",
        "    else:\n",
        "        return \"You're doing great! Keep going with the current plan.\"\n",
        "\n",
        "# Integrating LangChain's Agent for continuous decision-making\n",
        "tools = [\n",
        "    Tool(\n",
        "        name=\"Real-Time Progress Adjustment\",\n",
        "        func=adjust_plan,\n",
        "        description=\"Adjust the health plan based on user progress\"\n",
        "    ),\n",
        "]\n",
        "\n",
        "agent = initialize_agent(tools, llm, agent_type=AgentType.ZERO_SHOT_REACT_DESCRIPTION, verbose=True)\n",
        "\n",
        "# Example of how the agent would decide on the next steps\n",
        "user_id = \"user_12345\"\n",
        "response = agent.run(f\"Adjust the plan based on progress for user: {user_id}\")\n",
        "print(response)\n"
      ]
    },
    {
      "cell_type": "code",
      "execution_count": null,
      "metadata": {
        "id": "PSCL9hiwCfKc"
      },
      "outputs": [],
      "source": [
        "#YouTube API Integration for Video Recommendations:\n",
        "#To recommend YouTube videos based on the user's preferences (e.g., exercise tutorials), you can integrate the YouTube Data API.\n",
        "\n",
        "def get_youtube_videos(query):\n",
        "    api_key = 'your_youtube_api_key'\n",
        "    url = f\"https://www.googleapis.com/youtube/v3/search?part=snippet&q={query}&key={api_key}\"\n",
        "    response = requests.get(url)\n",
        "    video_data = response.json()\n",
        "\n",
        "    videos = []\n",
        "    for item in video_data['items']:\n",
        "        title = item['snippet']['title']\n",
        "        url = f\"https://www.youtube.com/watch?v={item['id']['videoId']}\"\n",
        "        videos.append({\"title\": title, \"url\": url})\n",
        "\n",
        "    return videos\n",
        "\n",
        "# Example usage: Fetch exercise videos\n",
        "exercise_videos = get_youtube_videos(\"beginner exercise routine for seniors\")\n",
        "for video in exercise_videos:\n",
        "    print(f\"Title: {video['title']}, URL: {video['url']}\")\n"
      ]
    },
    {
      "cell_type": "code",
      "execution_count": null,
      "metadata": {
        "id": "EzudBnY0CfG0"
      },
      "outputs": [],
      "source": [
        "##Bringing It All Together:\n",
        "#You can combine these pieces to create a full-fledged agent that tailors the health and lifestyle plan based on user data, generates content, adjusts the plan, and even suggests YouTube videos.\n",
        "\n",
        "#Final Example: Full User Interaction:"
      ]
    },
    {
      "cell_type": "code",
      "execution_count": null,
      "metadata": {
        "id": "gLKZNWhWDLHe"
      },
      "outputs": [],
      "source": [
        "# User Input (normally collected from a form or app interface)\n",
        "user_profile = {\n",
        "    'age': 30,\n",
        "    'dietary_preference': 'vegetarian',\n",
        "    'fitness_level': 'beginner',\n",
        "    'medical_history': 'hypertension',\n",
        "    'user_id': 'user_12345'\n",
        "}\n",
        "\n",
        "# Generate Personalized Recommendations\n",
        "meal_plan = generate_meal_plan(user_profile['age'], user_profile['dietary_preference'], user_profile['medical_history'])\n",
        "exercise_routine = generate_exercise_routine(user_profile['age'], user_profile['fitness_level'], user_profile['medical_history'])\n",
        "motivation_content = generate_motivation(user_profile['medical_history'])\n",
        "\n",
        "# Decision Making via Agentic AI\n",
        "response = agent.run(f\"Adjust the plan based on progress for user: {user_profile['user_id']}\")\n",
        "\n",
        "# YouTube Video Recommendations\n",
        "exercise_videos = get_youtube_videos(\"beginner exercise for hypertension\")\n",
        "\n",
        "# Display Recommendations\n",
        "print(f\"Meal Plan:\\n{meal_plan}\\n\")\n",
        "print(f\"Exercise Routine:\\n{exercise_routine}\\n\")\n",
        "print(f\"Motivational Content:\\n{motivation_content}\\n\")\n",
        "print(f\"Adjustments Based on Progress:\\n{response}\\n\")\n",
        "print(\"Recommended YouTube Videos:\")\n",
        "for video in exercise_videos:\n",
        "    print(f\"Title: {video['title']}, URL: {video['url']}\")\n"
      ]
    }
  ],
  "metadata": {
    "colab": {
      "provenance": []
    },
    "kernelspec": {
      "display_name": "myenv",
      "language": "python",
      "name": "python3"
    },
    "language_info": {
      "codemirror_mode": {
        "name": "ipython",
        "version": 3
      },
      "file_extension": ".py",
      "mimetype": "text/x-python",
      "name": "python",
      "nbconvert_exporter": "python",
      "pygments_lexer": "ipython3",
      "version": "3.12.8"
    }
  },
  "nbformat": 4,
  "nbformat_minor": 0
}
